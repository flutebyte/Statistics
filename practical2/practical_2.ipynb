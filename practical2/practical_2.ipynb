{
  "cells": [
    {
      "cell_type": "markdown",
      "id": "13403d87-7945-495e-acbb-a97f1cf1f568",
      "metadata": {
        "id": "13403d87-7945-495e-acbb-a97f1cf1f568"
      },
      "source": [
        "\n",
        "Q1. Can you identify whether teachers Rating Data is a time serires or cross sectional?\n",
        "\n",
        "The Teachers Rating Data is a cross-sectional dataset as a time series dataset tracks how one entity’s values change over time (e.g., a teacher’s rating each month for several years) but here we captures different entities at a single point in time."
      ]
    },
    {
      "cell_type": "markdown",
      "id": "94a794e3-c4fc-42d0-9d74-b93f519e9c2e",
      "metadata": {
        "id": "94a794e3-c4fc-42d0-9d74-b93f519e9c2e"
      },
      "source": [
        "Importing necessary libraries"
      ]
    },
    {
      "cell_type": "code",
      "execution_count": 3,
      "id": "b9b14e8a-66c2-4edd-a551-448ca770d806",
      "metadata": {
        "id": "b9b14e8a-66c2-4edd-a551-448ca770d806"
      },
      "outputs": [],
      "source": [
        "import pandas as pd\n",
        "import numpy as np\n",
        "import matplotlib.pyplot as plt\n",
        "import random"
      ]
    },
    {
      "cell_type": "code",
      "execution_count": 4,
      "id": "fa69cf07-e808-4732-b8be-3c5099d6cd37",
      "metadata": {
        "id": "fa69cf07-e808-4732-b8be-3c5099d6cd37"
      },
      "outputs": [],
      "source": [
        "# random dataset\n",
        "np.random.seed(42)\n",
        "random.seed(42)\n",
        "n = 110\n",
        "prof_names = [f\"Prof_{i}\" for i in np.random.randint(1, 99, n)]\n",
        "gender = np.random.choice(['Male', 'Female'], size=n)\n",
        "tenure = np.random.choice(['Yes', 'No'], size=n)\n",
        "beauty = np.random.normal(6, 1.2, n)\n",
        "rating = np.random.normal(4, 0.5, n)\n",
        "students = np.random.randint(50, 170, n)\n",
        "age = np.random.randint(25, 60, n)\n",
        "division = np.random.choice(['Lower Division', 'Upper Division'], size=n)\n",
        "outlier_indices = random.sample(range(n), 3)\n",
        "beauty[outlier_indices[0]] = 10.0\n",
        "beauty[outlier_indices[1]] = 1.5\n",
        "students[outlier_indices[2]] = 300"
      ]
    },
    {
      "cell_type": "code",
      "execution_count": 5,
      "id": "eb9a853e-4524-4aef-80e9-a5def5d2b427",
      "metadata": {
        "id": "eb9a853e-4524-4aef-80e9-a5def5d2b427"
      },
      "outputs": [],
      "source": [
        "df = pd.DataFrame({\n",
        "    'Prof': prof_names,\n",
        "    'Gender': gender,\n",
        "    'Tenure': tenure,\n",
        "    'Beauty': beauty.round(2),\n",
        "    'Rating': rating.round(2),\n",
        "    'Students': students,\n",
        "    'Age': age,\n",
        "    'Division': division\n",
        "})"
      ]
    },
    {
      "cell_type": "code",
      "execution_count": 6,
      "id": "8889a08d-7d5e-4a19-b804-cc808045e75c",
      "metadata": {
        "colab": {
          "base_uri": "https://localhost:8080/",
          "height": 380
        },
        "id": "8889a08d-7d5e-4a19-b804-cc808045e75c",
        "outputId": "8ee64628-f33f-4582-c5a2-71e30157b41e"
      },
      "outputs": [
        {
          "output_type": "stream",
          "name": "stdout",
          "text": [
            "Teachers Rating Dataset (First 10 Rows)\n"
          ]
        },
        {
          "output_type": "execute_result",
          "data": {
            "text/plain": [
              "      Prof  Gender Tenure  Beauty  Rating  Students  Age        Division\n",
              "0  Prof_52    Male    Yes    4.99    4.04        74   37  Upper Division\n",
              "1  Prof_93  Female     No    6.81    3.70       105   57  Lower Division\n",
              "2  Prof_15  Female    Yes    8.25    3.66        82   58  Lower Division\n",
              "3  Prof_72  Female    Yes    6.48    3.87       300   59  Lower Division\n",
              "4  Prof_61    Male    Yes    5.25    3.86       166   25  Upper Division\n",
              "5  Prof_21    Male    Yes    5.37    3.70        55   45  Lower Division\n",
              "6  Prof_83    Male     No    6.02    3.73       107   30  Lower Division\n",
              "7  Prof_87    Male     No    6.45    4.55        93   52  Lower Division\n",
              "8  Prof_75  Female    Yes    6.08    5.06        94   41  Upper Division\n",
              "9  Prof_75    Male    Yes    6.60    3.75        81   29  Upper Division"
            ],
            "text/html": [
              "\n",
              "  <div id=\"df-3631cb15-b7b6-442c-80d0-6f21ef8b19ab\" class=\"colab-df-container\">\n",
              "    <div>\n",
              "<style scoped>\n",
              "    .dataframe tbody tr th:only-of-type {\n",
              "        vertical-align: middle;\n",
              "    }\n",
              "\n",
              "    .dataframe tbody tr th {\n",
              "        vertical-align: top;\n",
              "    }\n",
              "\n",
              "    .dataframe thead th {\n",
              "        text-align: right;\n",
              "    }\n",
              "</style>\n",
              "<table border=\"1\" class=\"dataframe\">\n",
              "  <thead>\n",
              "    <tr style=\"text-align: right;\">\n",
              "      <th></th>\n",
              "      <th>Prof</th>\n",
              "      <th>Gender</th>\n",
              "      <th>Tenure</th>\n",
              "      <th>Beauty</th>\n",
              "      <th>Rating</th>\n",
              "      <th>Students</th>\n",
              "      <th>Age</th>\n",
              "      <th>Division</th>\n",
              "    </tr>\n",
              "  </thead>\n",
              "  <tbody>\n",
              "    <tr>\n",
              "      <th>0</th>\n",
              "      <td>Prof_52</td>\n",
              "      <td>Male</td>\n",
              "      <td>Yes</td>\n",
              "      <td>4.99</td>\n",
              "      <td>4.04</td>\n",
              "      <td>74</td>\n",
              "      <td>37</td>\n",
              "      <td>Upper Division</td>\n",
              "    </tr>\n",
              "    <tr>\n",
              "      <th>1</th>\n",
              "      <td>Prof_93</td>\n",
              "      <td>Female</td>\n",
              "      <td>No</td>\n",
              "      <td>6.81</td>\n",
              "      <td>3.70</td>\n",
              "      <td>105</td>\n",
              "      <td>57</td>\n",
              "      <td>Lower Division</td>\n",
              "    </tr>\n",
              "    <tr>\n",
              "      <th>2</th>\n",
              "      <td>Prof_15</td>\n",
              "      <td>Female</td>\n",
              "      <td>Yes</td>\n",
              "      <td>8.25</td>\n",
              "      <td>3.66</td>\n",
              "      <td>82</td>\n",
              "      <td>58</td>\n",
              "      <td>Lower Division</td>\n",
              "    </tr>\n",
              "    <tr>\n",
              "      <th>3</th>\n",
              "      <td>Prof_72</td>\n",
              "      <td>Female</td>\n",
              "      <td>Yes</td>\n",
              "      <td>6.48</td>\n",
              "      <td>3.87</td>\n",
              "      <td>300</td>\n",
              "      <td>59</td>\n",
              "      <td>Lower Division</td>\n",
              "    </tr>\n",
              "    <tr>\n",
              "      <th>4</th>\n",
              "      <td>Prof_61</td>\n",
              "      <td>Male</td>\n",
              "      <td>Yes</td>\n",
              "      <td>5.25</td>\n",
              "      <td>3.86</td>\n",
              "      <td>166</td>\n",
              "      <td>25</td>\n",
              "      <td>Upper Division</td>\n",
              "    </tr>\n",
              "    <tr>\n",
              "      <th>5</th>\n",
              "      <td>Prof_21</td>\n",
              "      <td>Male</td>\n",
              "      <td>Yes</td>\n",
              "      <td>5.37</td>\n",
              "      <td>3.70</td>\n",
              "      <td>55</td>\n",
              "      <td>45</td>\n",
              "      <td>Lower Division</td>\n",
              "    </tr>\n",
              "    <tr>\n",
              "      <th>6</th>\n",
              "      <td>Prof_83</td>\n",
              "      <td>Male</td>\n",
              "      <td>No</td>\n",
              "      <td>6.02</td>\n",
              "      <td>3.73</td>\n",
              "      <td>107</td>\n",
              "      <td>30</td>\n",
              "      <td>Lower Division</td>\n",
              "    </tr>\n",
              "    <tr>\n",
              "      <th>7</th>\n",
              "      <td>Prof_87</td>\n",
              "      <td>Male</td>\n",
              "      <td>No</td>\n",
              "      <td>6.45</td>\n",
              "      <td>4.55</td>\n",
              "      <td>93</td>\n",
              "      <td>52</td>\n",
              "      <td>Lower Division</td>\n",
              "    </tr>\n",
              "    <tr>\n",
              "      <th>8</th>\n",
              "      <td>Prof_75</td>\n",
              "      <td>Female</td>\n",
              "      <td>Yes</td>\n",
              "      <td>6.08</td>\n",
              "      <td>5.06</td>\n",
              "      <td>94</td>\n",
              "      <td>41</td>\n",
              "      <td>Upper Division</td>\n",
              "    </tr>\n",
              "    <tr>\n",
              "      <th>9</th>\n",
              "      <td>Prof_75</td>\n",
              "      <td>Male</td>\n",
              "      <td>Yes</td>\n",
              "      <td>6.60</td>\n",
              "      <td>3.75</td>\n",
              "      <td>81</td>\n",
              "      <td>29</td>\n",
              "      <td>Upper Division</td>\n",
              "    </tr>\n",
              "  </tbody>\n",
              "</table>\n",
              "</div>\n",
              "    <div class=\"colab-df-buttons\">\n",
              "\n",
              "  <div class=\"colab-df-container\">\n",
              "    <button class=\"colab-df-convert\" onclick=\"convertToInteractive('df-3631cb15-b7b6-442c-80d0-6f21ef8b19ab')\"\n",
              "            title=\"Convert this dataframe to an interactive table.\"\n",
              "            style=\"display:none;\">\n",
              "\n",
              "  <svg xmlns=\"http://www.w3.org/2000/svg\" height=\"24px\" viewBox=\"0 -960 960 960\">\n",
              "    <path d=\"M120-120v-720h720v720H120Zm60-500h600v-160H180v160Zm220 220h160v-160H400v160Zm0 220h160v-160H400v160ZM180-400h160v-160H180v160Zm440 0h160v-160H620v160ZM180-180h160v-160H180v160Zm440 0h160v-160H620v160Z\"/>\n",
              "  </svg>\n",
              "    </button>\n",
              "\n",
              "  <style>\n",
              "    .colab-df-container {\n",
              "      display:flex;\n",
              "      gap: 12px;\n",
              "    }\n",
              "\n",
              "    .colab-df-convert {\n",
              "      background-color: #E8F0FE;\n",
              "      border: none;\n",
              "      border-radius: 50%;\n",
              "      cursor: pointer;\n",
              "      display: none;\n",
              "      fill: #1967D2;\n",
              "      height: 32px;\n",
              "      padding: 0 0 0 0;\n",
              "      width: 32px;\n",
              "    }\n",
              "\n",
              "    .colab-df-convert:hover {\n",
              "      background-color: #E2EBFA;\n",
              "      box-shadow: 0px 1px 2px rgba(60, 64, 67, 0.3), 0px 1px 3px 1px rgba(60, 64, 67, 0.15);\n",
              "      fill: #174EA6;\n",
              "    }\n",
              "\n",
              "    .colab-df-buttons div {\n",
              "      margin-bottom: 4px;\n",
              "    }\n",
              "\n",
              "    [theme=dark] .colab-df-convert {\n",
              "      background-color: #3B4455;\n",
              "      fill: #D2E3FC;\n",
              "    }\n",
              "\n",
              "    [theme=dark] .colab-df-convert:hover {\n",
              "      background-color: #434B5C;\n",
              "      box-shadow: 0px 1px 3px 1px rgba(0, 0, 0, 0.15);\n",
              "      filter: drop-shadow(0px 1px 2px rgba(0, 0, 0, 0.3));\n",
              "      fill: #FFFFFF;\n",
              "    }\n",
              "  </style>\n",
              "\n",
              "    <script>\n",
              "      const buttonEl =\n",
              "        document.querySelector('#df-3631cb15-b7b6-442c-80d0-6f21ef8b19ab button.colab-df-convert');\n",
              "      buttonEl.style.display =\n",
              "        google.colab.kernel.accessAllowed ? 'block' : 'none';\n",
              "\n",
              "      async function convertToInteractive(key) {\n",
              "        const element = document.querySelector('#df-3631cb15-b7b6-442c-80d0-6f21ef8b19ab');\n",
              "        const dataTable =\n",
              "          await google.colab.kernel.invokeFunction('convertToInteractive',\n",
              "                                                    [key], {});\n",
              "        if (!dataTable) return;\n",
              "\n",
              "        const docLinkHtml = 'Like what you see? Visit the ' +\n",
              "          '<a target=\"_blank\" href=https://colab.research.google.com/notebooks/data_table.ipynb>data table notebook</a>'\n",
              "          + ' to learn more about interactive tables.';\n",
              "        element.innerHTML = '';\n",
              "        dataTable['output_type'] = 'display_data';\n",
              "        await google.colab.output.renderOutput(dataTable, element);\n",
              "        const docLink = document.createElement('div');\n",
              "        docLink.innerHTML = docLinkHtml;\n",
              "        element.appendChild(docLink);\n",
              "      }\n",
              "    </script>\n",
              "  </div>\n",
              "\n",
              "\n",
              "    <div id=\"df-8eaf5cff-6edf-4f9f-99dd-23c36ed5389a\">\n",
              "      <button class=\"colab-df-quickchart\" onclick=\"quickchart('df-8eaf5cff-6edf-4f9f-99dd-23c36ed5389a')\"\n",
              "                title=\"Suggest charts\"\n",
              "                style=\"display:none;\">\n",
              "\n",
              "<svg xmlns=\"http://www.w3.org/2000/svg\" height=\"24px\"viewBox=\"0 0 24 24\"\n",
              "     width=\"24px\">\n",
              "    <g>\n",
              "        <path d=\"M19 3H5c-1.1 0-2 .9-2 2v14c0 1.1.9 2 2 2h14c1.1 0 2-.9 2-2V5c0-1.1-.9-2-2-2zM9 17H7v-7h2v7zm4 0h-2V7h2v10zm4 0h-2v-4h2v4z\"/>\n",
              "    </g>\n",
              "</svg>\n",
              "      </button>\n",
              "\n",
              "<style>\n",
              "  .colab-df-quickchart {\n",
              "      --bg-color: #E8F0FE;\n",
              "      --fill-color: #1967D2;\n",
              "      --hover-bg-color: #E2EBFA;\n",
              "      --hover-fill-color: #174EA6;\n",
              "      --disabled-fill-color: #AAA;\n",
              "      --disabled-bg-color: #DDD;\n",
              "  }\n",
              "\n",
              "  [theme=dark] .colab-df-quickchart {\n",
              "      --bg-color: #3B4455;\n",
              "      --fill-color: #D2E3FC;\n",
              "      --hover-bg-color: #434B5C;\n",
              "      --hover-fill-color: #FFFFFF;\n",
              "      --disabled-bg-color: #3B4455;\n",
              "      --disabled-fill-color: #666;\n",
              "  }\n",
              "\n",
              "  .colab-df-quickchart {\n",
              "    background-color: var(--bg-color);\n",
              "    border: none;\n",
              "    border-radius: 50%;\n",
              "    cursor: pointer;\n",
              "    display: none;\n",
              "    fill: var(--fill-color);\n",
              "    height: 32px;\n",
              "    padding: 0;\n",
              "    width: 32px;\n",
              "  }\n",
              "\n",
              "  .colab-df-quickchart:hover {\n",
              "    background-color: var(--hover-bg-color);\n",
              "    box-shadow: 0 1px 2px rgba(60, 64, 67, 0.3), 0 1px 3px 1px rgba(60, 64, 67, 0.15);\n",
              "    fill: var(--button-hover-fill-color);\n",
              "  }\n",
              "\n",
              "  .colab-df-quickchart-complete:disabled,\n",
              "  .colab-df-quickchart-complete:disabled:hover {\n",
              "    background-color: var(--disabled-bg-color);\n",
              "    fill: var(--disabled-fill-color);\n",
              "    box-shadow: none;\n",
              "  }\n",
              "\n",
              "  .colab-df-spinner {\n",
              "    border: 2px solid var(--fill-color);\n",
              "    border-color: transparent;\n",
              "    border-bottom-color: var(--fill-color);\n",
              "    animation:\n",
              "      spin 1s steps(1) infinite;\n",
              "  }\n",
              "\n",
              "  @keyframes spin {\n",
              "    0% {\n",
              "      border-color: transparent;\n",
              "      border-bottom-color: var(--fill-color);\n",
              "      border-left-color: var(--fill-color);\n",
              "    }\n",
              "    20% {\n",
              "      border-color: transparent;\n",
              "      border-left-color: var(--fill-color);\n",
              "      border-top-color: var(--fill-color);\n",
              "    }\n",
              "    30% {\n",
              "      border-color: transparent;\n",
              "      border-left-color: var(--fill-color);\n",
              "      border-top-color: var(--fill-color);\n",
              "      border-right-color: var(--fill-color);\n",
              "    }\n",
              "    40% {\n",
              "      border-color: transparent;\n",
              "      border-right-color: var(--fill-color);\n",
              "      border-top-color: var(--fill-color);\n",
              "    }\n",
              "    60% {\n",
              "      border-color: transparent;\n",
              "      border-right-color: var(--fill-color);\n",
              "    }\n",
              "    80% {\n",
              "      border-color: transparent;\n",
              "      border-right-color: var(--fill-color);\n",
              "      border-bottom-color: var(--fill-color);\n",
              "    }\n",
              "    90% {\n",
              "      border-color: transparent;\n",
              "      border-bottom-color: var(--fill-color);\n",
              "    }\n",
              "  }\n",
              "</style>\n",
              "\n",
              "      <script>\n",
              "        async function quickchart(key) {\n",
              "          const quickchartButtonEl =\n",
              "            document.querySelector('#' + key + ' button');\n",
              "          quickchartButtonEl.disabled = true;  // To prevent multiple clicks.\n",
              "          quickchartButtonEl.classList.add('colab-df-spinner');\n",
              "          try {\n",
              "            const charts = await google.colab.kernel.invokeFunction(\n",
              "                'suggestCharts', [key], {});\n",
              "          } catch (error) {\n",
              "            console.error('Error during call to suggestCharts:', error);\n",
              "          }\n",
              "          quickchartButtonEl.classList.remove('colab-df-spinner');\n",
              "          quickchartButtonEl.classList.add('colab-df-quickchart-complete');\n",
              "        }\n",
              "        (() => {\n",
              "          let quickchartButtonEl =\n",
              "            document.querySelector('#df-8eaf5cff-6edf-4f9f-99dd-23c36ed5389a button');\n",
              "          quickchartButtonEl.style.display =\n",
              "            google.colab.kernel.accessAllowed ? 'block' : 'none';\n",
              "        })();\n",
              "      </script>\n",
              "    </div>\n",
              "\n",
              "    </div>\n",
              "  </div>\n"
            ],
            "application/vnd.google.colaboratory.intrinsic+json": {
              "type": "dataframe",
              "variable_name": "df",
              "summary": "{\n  \"name\": \"df\",\n  \"rows\": 110,\n  \"fields\": [\n    {\n      \"column\": \"Prof\",\n      \"properties\": {\n        \"dtype\": \"string\",\n        \"num_unique_values\": 65,\n        \"samples\": [\n          \"Prof_34\",\n          \"Prof_26\",\n          \"Prof_52\"\n        ],\n        \"semantic_type\": \"\",\n        \"description\": \"\"\n      }\n    },\n    {\n      \"column\": \"Gender\",\n      \"properties\": {\n        \"dtype\": \"category\",\n        \"num_unique_values\": 2,\n        \"samples\": [\n          \"Female\",\n          \"Male\"\n        ],\n        \"semantic_type\": \"\",\n        \"description\": \"\"\n      }\n    },\n    {\n      \"column\": \"Tenure\",\n      \"properties\": {\n        \"dtype\": \"category\",\n        \"num_unique_values\": 2,\n        \"samples\": [\n          \"No\",\n          \"Yes\"\n        ],\n        \"semantic_type\": \"\",\n        \"description\": \"\"\n      }\n    },\n    {\n      \"column\": \"Beauty\",\n      \"properties\": {\n        \"dtype\": \"number\",\n        \"std\": 1.3775263666232618,\n        \"min\": 1.5,\n        \"max\": 10.0,\n        \"num_unique_values\": 94,\n        \"samples\": [\n          7.56,\n          4.82\n        ],\n        \"semantic_type\": \"\",\n        \"description\": \"\"\n      }\n    },\n    {\n      \"column\": \"Rating\",\n      \"properties\": {\n        \"dtype\": \"number\",\n        \"std\": 0.5697477310742186,\n        \"min\": 2.32,\n        \"max\": 5.59,\n        \"num_unique_values\": 88,\n        \"samples\": [\n          4.53,\n          4.04\n        ],\n        \"semantic_type\": \"\",\n        \"description\": \"\"\n      }\n    },\n    {\n      \"column\": \"Students\",\n      \"properties\": {\n        \"dtype\": \"number\",\n        \"std\": 40,\n        \"min\": 50,\n        \"max\": 300,\n        \"num_unique_values\": 79,\n        \"samples\": [\n          103,\n          74\n        ],\n        \"semantic_type\": \"\",\n        \"description\": \"\"\n      }\n    },\n    {\n      \"column\": \"Age\",\n      \"properties\": {\n        \"dtype\": \"number\",\n        \"std\": 10,\n        \"min\": 25,\n        \"max\": 59,\n        \"num_unique_values\": 34,\n        \"samples\": [\n          38,\n          32\n        ],\n        \"semantic_type\": \"\",\n        \"description\": \"\"\n      }\n    },\n    {\n      \"column\": \"Division\",\n      \"properties\": {\n        \"dtype\": \"category\",\n        \"num_unique_values\": 2,\n        \"samples\": [\n          \"Lower Division\",\n          \"Upper Division\"\n        ],\n        \"semantic_type\": \"\",\n        \"description\": \"\"\n      }\n    }\n  ]\n}"
            }
          },
          "metadata": {},
          "execution_count": 6
        }
      ],
      "source": [
        "df.head(10)"
      ]
    },
    {
      "cell_type": "markdown",
      "id": "7fa7e2d7-5148-43d7-ae08-c6ee4ccf83c6",
      "metadata": {
        "id": "7fa7e2d7-5148-43d7-ae08-c6ee4ccf83c6"
      },
      "source": [
        "Q2. Find the mean, median, minimum and maximum values for the students."
      ]
    },
    {
      "cell_type": "code",
      "execution_count": 7,
      "id": "1ab0c602-7076-43b8-a3d3-cb2ddac5749f",
      "metadata": {
        "colab": {
          "base_uri": "https://localhost:8080/"
        },
        "id": "1ab0c602-7076-43b8-a3d3-cb2ddac5749f",
        "outputId": "26b09dc1-7e62-4398-e905-4ee180e5f9de"
      },
      "outputs": [
        {
          "output_type": "stream",
          "name": "stdout",
          "text": [
            "Mean: 86\n",
            "Median: 87.5\n",
            "Minimum: 69\n",
            "Maximum: 99\n"
          ]
        }
      ],
      "source": [
        "import statistics as stats\n",
        "\n",
        "students = [86, 99, 77, 78, 89, 69, 95, 89, 84, 94]\n",
        "\n",
        "mean_value = stats.mean(students)\n",
        "median_value = stats.median(students)\n",
        "min_value = min(students)\n",
        "max_value = max(students)\n",
        "\n",
        "print(\"Mean:\", mean_value)\n",
        "print(\"Median:\", median_value)\n",
        "print(\"Minimum:\", min_value)\n",
        "print(\"Maximum:\", max_value)\n"
      ]
    },
    {
      "cell_type": "markdown",
      "id": "d57c5105-8ab6-4339-ae85-f031ce8dd56e",
      "metadata": {
        "id": "d57c5105-8ab6-4339-ae85-f031ce8dd56e"
      },
      "source": [
        "Q3. Produce the descriptive statistics table"
      ]
    },
    {
      "cell_type": "code",
      "execution_count": 8,
      "id": "09256b2f-4566-4785-8bf9-66ebb118bb5b",
      "metadata": {
        "colab": {
          "base_uri": "https://localhost:8080/"
        },
        "id": "09256b2f-4566-4785-8bf9-66ebb118bb5b",
        "outputId": "2d5b1ec6-d740-4e7f-ef91-7aa56c6c9906"
      },
      "outputs": [
        {
          "output_type": "stream",
          "name": "stdout",
          "text": [
            "            Math   Science   English   History\n",
            "count   5.000000   5.00000   5.00000   5.00000\n",
            "mean   83.800000  56.00000  80.00000  79.20000\n",
            "std     8.700575  25.48529  14.30035  19.34425\n",
            "min    74.000000  23.00000  55.00000  45.00000\n",
            "25%    75.000000  40.00000  82.00000  83.00000\n",
            "50%    87.000000  55.00000  85.00000  88.00000\n",
            "75%    91.000000  80.00000  88.00000  89.00000\n",
            "max    92.000000  82.00000  90.00000  91.00000\n"
          ]
        }
      ],
      "source": [
        "import pandas as pd\n",
        "data = {\n",
        "    'Math': [87, 92, 74, 91, 75],\n",
        "    'Science': [80, 55, 23, 40, 82],\n",
        "    'English': [55, 82, 85, 88, 90],\n",
        "    'History': [88, 45, 83, 89, 91]\n",
        "}\n",
        "\n",
        "df = pd.DataFrame(data)\n",
        "desc_stats = df.describe()\n",
        "\n",
        "print(desc_stats)\n"
      ]
    },
    {
      "cell_type": "markdown",
      "id": "ad90b1ba-e57d-4fa9-b4f2-913e0fdd69c4",
      "metadata": {
        "id": "ad90b1ba-e57d-4fa9-b4f2-913e0fdd69c4"
      },
      "source": [
        "Q4. Create a histogram of the beauty variable and breifly comment on the distribution of the data."
      ]
    },
    {
      "cell_type": "code",
      "execution_count": 9,
      "id": "74035450-e2a5-4176-945f-06cfb773387e",
      "metadata": {
        "colab": {
          "base_uri": "https://localhost:8080/",
          "height": 472
        },
        "id": "74035450-e2a5-4176-945f-06cfb773387e",
        "outputId": "dcb85191-db6e-4517-879e-ebed3b093df5"
      },
      "outputs": [
        {
          "output_type": "display_data",
          "data": {
            "text/plain": [
              "<Figure size 640x480 with 1 Axes>"
            ],
            "image/png": "[encoded data removed]"
          },
          "metadata": {}
        }
      ],
      "source": [
        "import pandas as pd\n",
        "import matplotlib.pyplot as plt\n",
        "\n",
        "data = {'beauty': [3.5, 4.2, 5.1, 4.8, 3.9, 4.6, 2.8, 3.7, 4.0, 4.4,\n",
        "                   5.0, 3.2, 4.9, 3.6, 4.1, 4.3, 5.2, 3.8, 2.9, 4.5]}\n",
        "df = pd.DataFrame(data)\n",
        "\n",
        "plt.hist(df['beauty'], bins=8, edgecolor='black')\n",
        "plt.title('Histogram of Beauty Variable')\n",
        "plt.xlabel('Beauty Score')\n",
        "plt.ylabel('Frequency')\n",
        "plt.grid(axis='y', alpha=0.75)\n",
        "plt.show()\n"
      ]
    },
    {
      "cell_type": "markdown",
      "id": "167e46c2-f4a3-4c39-b4c3-3c83ff4916fe",
      "metadata": {
        "id": "167e46c2-f4a3-4c39-b4c3-3c83ff4916fe"
      },
      "source": [
        "Q5. Does average beauty score differ by gender? Produce the means and standard deviations for both male and female instructors 6"
      ]
    },
    {
      "cell_type": "code",
      "execution_count": 10,
      "id": "267ae4ab-a503-4494-84d4-28b2669e8021",
      "metadata": {
        "colab": {
          "base_uri": "https://localhost:8080/"
        },
        "id": "267ae4ab-a503-4494-84d4-28b2669e8021",
        "outputId": "a518dd5c-6585-4ce0-be0f-3fadaf187e72"
      },
      "outputs": [
        {
          "output_type": "stream",
          "name": "stdout",
          "text": [
            "Descriptive statistics of beauty score by gender:\n",
            "        mean       std  count\n",
            "gender                       \n",
            "female  5.02  0.192354      5\n",
            "male    3.18  0.370135      5\n"
          ]
        }
      ],
      "source": [
        "import pandas as pd\n",
        "\n",
        "data = {\n",
        "    'gender': ['male', 'female', 'male', 'female', 'male', 'female', 'male', 'female', 'male', 'female'],\n",
        "    'beauty': [2.9, 5.1, 3.4, 4.8, 3.1, 5.3, 3.7, 4.9, 2.8, 5.0]\n",
        "}\n",
        "\n",
        "df = pd.DataFrame(data)\n",
        "summary = df.groupby('gender')['beauty'].agg(['mean', 'std', 'count'])\n",
        "\n",
        "print(\"Descriptive statistics of beauty score by gender:\")\n",
        "print(summary)\n"
      ]
    },
    {
      "cell_type": "markdown",
      "id": "2b1a04d5-bfe4-4793-8fa9-a623617d831e",
      "metadata": {
        "id": "2b1a04d5-bfe4-4793-8fa9-a623617d831e"
      },
      "source": [
        "Q6. Calculate the percentage of males and females that are tenured professors. Will you say that tenure status differ by gender?"
      ]
    },
    {
      "cell_type": "code",
      "execution_count": 11,
      "id": "0377b5ec-483a-40d4-b576-21226ffb99e7",
      "metadata": {
        "colab": {
          "base_uri": "https://localhost:8080/"
        },
        "id": "0377b5ec-483a-40d4-b576-21226ffb99e7",
        "outputId": "44826ffa-86c4-4693-a2d4-f7b932c5b63c"
      },
      "outputs": [
        {
          "output_type": "stream",
          "name": "stdout",
          "text": [
            "Percentage of tenure status by gender:\n",
            "tenure    no   yes\n",
            "gender            \n",
            "female  60.0  40.0\n",
            "male    20.0  80.0\n"
          ]
        }
      ],
      "source": [
        "import pandas as pd\n",
        "data = {\n",
        "    'gender': ['male', 'female', 'male', 'female', 'male', 'female', 'male', 'female', 'male', 'female'],\n",
        "    'tenure': ['yes', 'no', 'yes', 'yes', 'no', 'no', 'yes', 'no', 'yes', 'yes']\n",
        "}\n",
        "\n",
        "df = pd.DataFrame(data)\n",
        "tenure_percent = (\n",
        "    df.groupby('gender')['tenure']\n",
        "      .value_counts(normalize=True)\n",
        "      .unstack() * 100\n",
        ")\n",
        "\n",
        "print(\"Percentage of tenure status by gender:\")\n",
        "print(tenure_percent.round(2))\n"
      ]
    },
    {
      "cell_type": "markdown",
      "id": "db8482cf-4af9-4d4f-8d2b-d645b05579df",
      "metadata": {
        "id": "db8482cf-4af9-4d4f-8d2b-d645b05579df"
      },
      "source": [
        ">Yes, in this dataset male instructors have a higher tenure percentage than females.\n",
        "\n",
        "->Females have a higher proportion of tenured professors than males.\n",
        "\n",
        "This shows a gender-based difference in tenure, at least in this small sample."
      ]
    },
    {
      "cell_type": "code",
      "execution_count": null,
      "id": "ac05dcd3-0340-4243-b5d0-d01c82ecb45d",
      "metadata": {
        "id": "ac05dcd3-0340-4243-b5d0-d01c82ecb45d"
      },
      "outputs": [],
      "source": []
    }
  ],
  "metadata": {
    "kernelspec": {
      "display_name": "Python 3 (ipykernel)",
      "language": "python",
      "name": "python3"
    },
    "language_info": {
      "codemirror_mode": {
        "name": "ipython",
        "version": 3
      },
      "file_extension": ".py",
      "mimetype": "text/x-python",
      "name": "python",
      "nbconvert_exporter": "python",
      "pygments_lexer": "ipython3",
      "version": "3.12.4"
    },
    "colab": {
      "provenance": []
    }
  },
  "nbformat": 4,
  "nbformat_minor": 5
}