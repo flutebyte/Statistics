{
 "cells": [
  {
   "cell_type": "code",
   "execution_count": 5,
   "id": "430db003-153a-424b-a94a-b33914a549dc",
   "metadata": {},
   "outputs": [],
   "source": [
    "import pandas as pd\n",
    "import numpy as np"
   ]
  },
  {
   "cell_type": "code",
   "execution_count": 7,
   "id": "1169a048-5752-4809-b0f7-bb8768732537",
   "metadata": {},
   "outputs": [],
   "source": [
    "np.random.seed(42)"
   ]
  },
  {
   "cell_type": "code",
   "execution_count": 13,
   "id": "1b6affde-8166-4706-b1d2-c586c54e94e7",
   "metadata": {},
   "outputs": [],
   "source": [
    "n=70\n",
    "age = np.random.randint(15,65,n)\n",
    "salary = np.random.normal(10000, 70000, n)\n",
    "salary[np.random.choice(n, 10, replace=False)] = np.nan"
   ]
  },
  {
   "cell_type": "code",
   "execution_count": 7,
   "id": "00ec4416-7006-4f28-b8da-1f3e64bc890f",
   "metadata": {},
   "outputs": [],
   "source": [
    "#PROBLEM 1\n",
    "#(a)"
   ]
  },
  {
   "cell_type": "code",
   "execution_count": 23,
   "id": "b2b88aa6-fc64-463d-8500-f2bad537ef39",
   "metadata": {},
   "outputs": [
    {
     "data": {
      "text/html": [
       "<div>\n",
       "<style scoped>\n",
       "    .dataframe tbody tr th:only-of-type {\n",
       "        vertical-align: middle;\n",
       "    }\n",
       "\n",
       "    .dataframe tbody tr th {\n",
       "        vertical-align: top;\n",
       "    }\n",
       "\n",
       "    .dataframe thead th {\n",
       "        text-align: right;\n",
       "    }\n",
       "</style>\n",
       "<table border=\"1\" class=\"dataframe\">\n",
       "  <thead>\n",
       "    <tr style=\"text-align: right;\">\n",
       "      <th></th>\n",
       "      <th>age</th>\n",
       "      <th>salary</th>\n",
       "    </tr>\n",
       "  </thead>\n",
       "  <tbody>\n",
       "    <tr>\n",
       "      <th>0</th>\n",
       "      <td>55</td>\n",
       "      <td>67544.211200</td>\n",
       "    </tr>\n",
       "    <tr>\n",
       "      <th>1</th>\n",
       "      <td>47</td>\n",
       "      <td>NaN</td>\n",
       "    </tr>\n",
       "    <tr>\n",
       "      <th>2</th>\n",
       "      <td>54</td>\n",
       "      <td>-7177.168120</td>\n",
       "    </tr>\n",
       "    <tr>\n",
       "      <th>3</th>\n",
       "      <td>53</td>\n",
       "      <td>-42761.531505</td>\n",
       "    </tr>\n",
       "    <tr>\n",
       "      <th>4</th>\n",
       "      <td>32</td>\n",
       "      <td>-52266.010074</td>\n",
       "    </tr>\n",
       "    <tr>\n",
       "      <th>...</th>\n",
       "      <td>...</td>\n",
       "      <td>...</td>\n",
       "    </tr>\n",
       "    <tr>\n",
       "      <th>65</th>\n",
       "      <td>62</td>\n",
       "      <td>25152.101271</td>\n",
       "    </tr>\n",
       "    <tr>\n",
       "      <th>66</th>\n",
       "      <td>34</td>\n",
       "      <td>13190.028793</td>\n",
       "    </tr>\n",
       "    <tr>\n",
       "      <th>67</th>\n",
       "      <td>22</td>\n",
       "      <td>NaN</td>\n",
       "    </tr>\n",
       "    <tr>\n",
       "      <th>68</th>\n",
       "      <td>21</td>\n",
       "      <td>160076.086253</td>\n",
       "    </tr>\n",
       "    <tr>\n",
       "      <th>69</th>\n",
       "      <td>17</td>\n",
       "      <td>54374.331562</td>\n",
       "    </tr>\n",
       "  </tbody>\n",
       "</table>\n",
       "<p>70 rows × 2 columns</p>\n",
       "</div>"
      ],
      "text/plain": [
       "    age         salary\n",
       "0    55   67544.211200\n",
       "1    47            NaN\n",
       "2    54   -7177.168120\n",
       "3    53  -42761.531505\n",
       "4    32  -52266.010074\n",
       "..  ...            ...\n",
       "65   62   25152.101271\n",
       "66   34   13190.028793\n",
       "67   22            NaN\n",
       "68   21  160076.086253\n",
       "69   17   54374.331562\n",
       "\n",
       "[70 rows x 2 columns]"
      ]
     },
     "execution_count": 23,
     "metadata": {},
     "output_type": "execute_result"
    }
   ],
   "source": [
    "df = pd.DataFrame({'age': age, 'salary': salary})\n",
    "df"
   ]
  },
  {
   "cell_type": "code",
   "execution_count": 25,
   "id": "9c77eaa8-3f3c-438e-bce7-fa664fc830a8",
   "metadata": {},
   "outputs": [
    {
     "data": {
      "text/plain": [
       "19738.10556597439"
      ]
     },
     "execution_count": 25,
     "metadata": {},
     "output_type": "execute_result"
    }
   ],
   "source": [
    "df['salary'].mean()"
   ]
  },
  {
   "cell_type": "code",
   "execution_count": 27,
   "id": "5a61bf8c-9978-43b3-8f66-135bdc9f3220",
   "metadata": {},
   "outputs": [
    {
     "data": {
      "text/plain": [
       "18245.973586614768"
      ]
     },
     "execution_count": 27,
     "metadata": {},
     "output_type": "execute_result"
    }
   ],
   "source": [
    "#(b) \n",
    "df['salary'].median()"
   ]
  },
  {
   "cell_type": "code",
   "execution_count": 29,
   "id": "083f5300-dfd4-4959-9f15-b7ce48845c5c",
   "metadata": {},
   "outputs": [
    {
     "data": {
      "text/plain": [
       "20693.433873019127"
      ]
     },
     "execution_count": 29,
     "metadata": {},
     "output_type": "execute_result"
    }
   ],
   "source": [
    "(df['salary']*df['age']).sum()/df['age'].sum()"
   ]
  },
  {
   "cell_type": "raw",
   "id": "369770e0-9060-4dfa-ac9d-f61681493944",
   "metadata": {},
   "source": [
    "Ans- Weighted sum is used when we give more importance to some, and less to others. like for ex: marks in subjects, you give more importance to core subjects than minor ones. Mean is used when we give equal importance to everything."
   ]
  },
  {
   "cell_type": "code",
   "execution_count": 27,
   "id": "60c969f4-50e3-49cf-925b-102215e8de5a",
   "metadata": {},
   "outputs": [],
   "source": [
    "#PROBLEM 2"
   ]
  },
  {
   "cell_type": "code",
   "execution_count": 33,
   "id": "1063995d-1596-4fde-8490-0ab90d3f2252",
   "metadata": {},
   "outputs": [],
   "source": [
    "#z-score\n",
    "z_score = (df['salary']-df['salary'].mean(skipna=True)/df['salary'].std(skipna=True))"
   ]
  },
  {
   "cell_type": "code",
   "execution_count": 35,
   "id": "d8bcd709-55d3-4830-92b9-5b9883a8cd89",
   "metadata": {},
   "outputs": [
    {
     "data": {
      "text/plain": [
       "0      67543.943491\n",
       "1               NaN\n",
       "2      -7177.435829\n",
       "3     -42761.799214\n",
       "4     -52266.277783\n",
       "          ...      \n",
       "65     25151.833562\n",
       "66     13189.761084\n",
       "67              NaN\n",
       "68    160075.818544\n",
       "69     54374.063853\n",
       "Name: salary, Length: 70, dtype: float64"
      ]
     },
     "execution_count": 35,
     "metadata": {},
     "output_type": "execute_result"
    }
   ],
   "source": [
    "z_score"
   ]
  },
  {
   "cell_type": "code",
   "execution_count": 37,
   "id": "bba6424f-1c0c-4fd3-869e-8a6121dfa5b2",
   "metadata": {},
   "outputs": [
    {
     "data": {
      "text/plain": [
       "60"
      ]
     },
     "execution_count": 37,
     "metadata": {},
     "output_type": "execute_result"
    }
   ],
   "source": [
    "outlier = (abs(z_score) > 3).sum()\n",
    "outlier"
   ]
  },
  {
   "cell_type": "code",
   "execution_count": 45,
   "id": "6b6725e3-f85b-437c-ae0d-3a20748cf20e",
   "metadata": {},
   "outputs": [],
   "source": [
    "#PROBLEM 3"
   ]
  },
  {
   "cell_type": "code",
   "execution_count": 43,
   "id": "063e32c0-f5d7-4115-8219-f2265c660215",
   "metadata": {},
   "outputs": [
    {
     "name": "stdout",
     "output_type": "stream",
     "text": [
      "  age_bin  count   mean_income  median_income\n",
      "0   18-25      6  27951.178985   34043.840687\n",
      "1   25-35     12   6354.162522   -4033.008926\n",
      "2   35-45     11  27208.651628   -5642.394973\n",
      "3   45-60     19  26735.627582   36972.216581\n"
     ]
    }
   ],
   "source": [
    "labels = [\"18-25\", \"25-35\", \"35-45\", \"45-60\"]\n",
    "bins = [18, 25, 35, 45, 60]\n",
    "\n",
    "df['age_bin'] = pd.cut(df['age'], bins=bins, labels=labels, right=False)\n",
    "\n",
    "\n",
    "res = df.groupby('age_bin', observed=False).agg(\n",
    "    count=('salary', 'count'),\n",
    "    mean_income=('salary', 'mean'),\n",
    "    median_income=('salary', 'median')\n",
    ").reset_index().sort_values('age_bin')\n",
    "\n",
    "print(res)\n",
    "\n",
    "\n"
   ]
  },
  {
   "cell_type": "code",
   "execution_count": 63,
   "id": "83bd1991-fda1-43a2-90d9-fab7fff12151",
   "metadata": {},
   "outputs": [],
   "source": [
    "#PROBLEM 4"
   ]
  },
  {
   "cell_type": "code",
   "execution_count": 47,
   "id": "13100c86-e655-4281-9650-e37105ff171b",
   "metadata": {},
   "outputs": [
    {
     "data": {
      "text/plain": [
       "array([[5, 4, 8, 7],\n",
       "       [2, 1, 4, 8],\n",
       "       [2, 3, 1, 1]])"
      ]
     },
     "execution_count": 47,
     "metadata": {},
     "output_type": "execute_result"
    }
   ],
   "source": [
    "arr = np.random.randint(1, 10, (3, 4))\n",
    "arr"
   ]
  },
  {
   "cell_type": "code",
   "execution_count": 51,
   "id": "90ebf391-13ed-4804-8110-9f4170d50390",
   "metadata": {},
   "outputs": [
    {
     "name": "stdout",
     "output_type": "stream",
     "text": [
      "Shape: (3, 4)\n",
      "Size: 12\n",
      "Transposed: [[5 2 2]\n",
      " [4 1 3]\n",
      " [8 4 1]\n",
      " [7 8 1]]\n",
      "Flattened: [5 4 8 7 2 1 4 8 2 3 1 1]\n"
     ]
    }
   ],
   "source": [
    "print(\"Shape:\", arr.shape)\n",
    "print(\"Size:\", arr.size)\n",
    "print(\"Transposed:\", arr.T)\n",
    "print(\"Flattened:\", arr.flatten())"
   ]
  },
  {
   "cell_type": "code",
   "execution_count": 53,
   "id": "8509a103-78f3-4492-8b8b-cbc353b64f14",
   "metadata": {},
   "outputs": [
    {
     "name": "stdout",
     "output_type": "stream",
     "text": [
      "Last row: [2 3 1 1]\n",
      "Slicing error: index 10 is out of bounds for axis 1 with size 4\n"
     ]
    }
   ],
   "source": [
    "print(\"Last row:\", arr[-1])\n",
    "\n",
    "try:\n",
    "    slice_error = arr[:, 10]\n",
    "except Exception as e:\n",
    "    print(\"Slicing error:\", e)"
   ]
  },
  {
   "cell_type": "code",
   "execution_count": 55,
   "id": "b2055f51-bded-4b00-b79f-8c685d35a5e9",
   "metadata": {},
   "outputs": [
    {
     "name": "stdout",
     "output_type": "stream",
     "text": [
      "Broadcasted:\n",
      " [[ 8  7 11 10]\n",
      " [ 7  6  9 13]\n",
      " [ 5  6  4  4]]\n",
      "Dot Product:\n",
      " [[154 102  37]\n",
      " [102  85  19]\n",
      " [ 37  19  15]]\n"
     ]
    }
   ],
   "source": [
    "arr2 = np.random.randint(1, 10, (3, 1))\n",
    "broadcasted = arr + arr2 \n",
    "print(\"Broadcasted:\\n\", broadcasted)\n",
    "dot_product = np.dot(arr, arr.T)\n",
    "print(\"Dot Product:\\n\", dot_product)"
   ]
  },
  {
   "cell_type": "code",
   "execution_count": 57,
   "id": "dbd291cf-bb7d-416b-ae8b-79fc5deee61e",
   "metadata": {},
   "outputs": [
    {
     "name": "stdout",
     "output_type": "stream",
     "text": [
      "Square Array:\n",
      " [[1 1 8]\n",
      " [2 3 2]\n",
      " [3 7 1]]\n",
      "Determinant: 33.000000000000014\n",
      "Inverse:\n",
      " [[-0.33333333  1.66666667 -0.66666667]\n",
      " [ 0.12121212 -0.6969697   0.42424242]\n",
      " [ 0.15151515 -0.12121212  0.03030303]]\n"
     ]
    }
   ],
   "source": [
    "square_arr = np.random.randint(1, 10, (3, 3))\n",
    "det = np.linalg.det(square_arr)\n",
    "inverse = np.linalg.inv(square_arr)\n",
    "\n",
    "print(\"Square Array:\\n\", square_arr)\n",
    "print(\"Determinant:\", det)\n",
    "print(\"Inverse:\\n\", inverse)"
   ]
  },
  {
   "cell_type": "code",
   "execution_count": null,
   "id": "52c4c5bb-336f-440b-b9f4-322fd1d46006",
   "metadata": {},
   "outputs": [],
   "source": []
  }
 ],
 "metadata": {
  "kernelspec": {
   "display_name": "Python 3 (ipykernel)",
   "language": "python",
   "name": "python3"
  },
  "language_info": {
   "codemirror_mode": {
    "name": "ipython",
    "version": 3
   },
   "file_extension": ".py",
   "mimetype": "text/x-python",
   "name": "python",
   "nbconvert_exporter": "python",
   "pygments_lexer": "ipython3",
   "version": "3.12.7"
  }
 },
 "nbformat": 4,
 "nbformat_minor": 5
}
