{
 "cells": [
  {
   "cell_type": "markdown",
   "id": "edfa24d0-2bef-4fb5-8c07-3946d1629208",
   "metadata": {},
   "source": [
    "# Statistical Foundation of Data Sciences – Assignment 4\n",
    "\n",
    "**Student Information:**  \n",
    "- **Name:** Lavanya garg  \n",
    "- **Roll Number:** GF202345280 \n",
    "- **Course:** CSU1658 – Statistical Foundation of Data Sciences  \n",
    "- **Date:** October 14, 2025\n",
    "\n",
    "---\n",
    "\n",
    "## Assignment Overview\n",
    "\n",
    "This notebook answers analytical and conceptual questions using the Student Rating Dataset, focusing on tenure, minority status, variable distributions, and Python visualization tools.\n"
   ]
  },
  {
   "cell_type": "code",
   "execution_count": 8,
   "id": "465c1705-ae8e-44fb-a815-88fd4a342f44",
   "metadata": {},
   "outputs": [
    {
     "name": "stdout",
     "output_type": "stream",
     "text": [
      "✓ Dataset created successfully!\n"
     ]
    },
    {
     "data": {
      "text/html": [
       "<div>\n",
       "<style scoped>\n",
       "    .dataframe tbody tr th:only-of-type {\n",
       "        vertical-align: middle;\n",
       "    }\n",
       "\n",
       "    .dataframe tbody tr th {\n",
       "        vertical-align: top;\n",
       "    }\n",
       "\n",
       "    .dataframe thead th {\n",
       "        text-align: right;\n",
       "    }\n",
       "</style>\n",
       "<table border=\"1\" class=\"dataframe\">\n",
       "  <thead>\n",
       "    <tr style=\"text-align: right;\">\n",
       "      <th></th>\n",
       "      <th>age</th>\n",
       "      <th>gender</th>\n",
       "      <th>minority</th>\n",
       "      <th>tenure</th>\n",
       "      <th>eval</th>\n",
       "    </tr>\n",
       "  </thead>\n",
       "  <tbody>\n",
       "    <tr>\n",
       "      <th>0</th>\n",
       "      <td>63</td>\n",
       "      <td>Female</td>\n",
       "      <td>No</td>\n",
       "      <td>Yes</td>\n",
       "      <td>3.98</td>\n",
       "    </tr>\n",
       "    <tr>\n",
       "      <th>1</th>\n",
       "      <td>53</td>\n",
       "      <td>Female</td>\n",
       "      <td>No</td>\n",
       "      <td>No</td>\n",
       "      <td>4.19</td>\n",
       "    </tr>\n",
       "    <tr>\n",
       "      <th>2</th>\n",
       "      <td>39</td>\n",
       "      <td>Female</td>\n",
       "      <td>Yes</td>\n",
       "      <td>No</td>\n",
       "      <td>2.54</td>\n",
       "    </tr>\n",
       "    <tr>\n",
       "      <th>3</th>\n",
       "      <td>32</td>\n",
       "      <td>Female</td>\n",
       "      <td>Yes</td>\n",
       "      <td>Yes</td>\n",
       "      <td>3.78</td>\n",
       "    </tr>\n",
       "    <tr>\n",
       "      <th>4</th>\n",
       "      <td>45</td>\n",
       "      <td>Female</td>\n",
       "      <td>No</td>\n",
       "      <td>Yes</td>\n",
       "      <td>3.07</td>\n",
       "    </tr>\n",
       "  </tbody>\n",
       "</table>\n",
       "</div>"
      ],
      "text/plain": [
       "   age  gender minority tenure  eval\n",
       "0   63  Female       No    Yes  3.98\n",
       "1   53  Female       No     No  4.19\n",
       "2   39  Female      Yes     No  2.54\n",
       "3   32  Female      Yes    Yes  3.78\n",
       "4   45  Female       No    Yes  3.07"
      ]
     },
     "execution_count": 8,
     "metadata": {},
     "output_type": "execute_result"
    }
   ],
   "source": [
    "# Import libraries\n",
    "import pandas as pd\n",
    "import numpy as np\n",
    "import matplotlib.pyplot as plt\n",
    "import seaborn as sns\n",
    "\n",
    "# Set plot style\n",
    "sns.set(style=\"whitegrid\")\n",
    "\n",
    "# Simulate dataset\n",
    "np.random.seed(42)  # reproducibility\n",
    "n = 50  # number of professors\n",
    "\n",
    "df = pd.DataFrame({\n",
    "    'age': np.random.randint(25, 65, size=n),\n",
    "    'gender': np.random.choice(['Male','Female'], size=n),\n",
    "    'minority': np.random.choice(['Yes','No'], size=n, p=[0.3,0.7]),\n",
    "    'tenure': np.random.choice(['Yes','No'], size=n, p=[0.6,0.4]),\n",
    "    'eval': np.round(np.random.uniform(2.5,5.0,size=n),2)\n",
    "})\n",
    "\n",
    "print(\"✓ Dataset created successfully!\")\n",
    "df.head()\n"
   ]
  },
  {
   "cell_type": "markdown",
   "id": "881a2fc5-1120-459d-b073-a287ba5ed737",
   "metadata": {},
   "source": [
    "## Q1: Percentage of Visible Minorities Who Are Tenured Professors\n",
    "\n",
    "Calculate the percentage of visible minorities who are tenure professors. Will you say that tenure status differed if teacher was a visible minority?\n"
   ]
  },
  {
   "cell_type": "code",
   "execution_count": 10,
   "id": "68e6183b-a56b-4b47-8c1a-3bec663bb163",
   "metadata": {},
   "outputs": [
    {
     "name": "stdout",
     "output_type": "stream",
     "text": [
      "Percentage of visible minorities who are tenured: 60.00%\n",
      "→ Tenure status doesn’t differ much based on minority status.\n"
     ]
    }
   ],
   "source": [
    "# Filter visible minorities\n",
    "visible_minority = df[df['minority'] == 'Yes']\n",
    "\n",
    "# Percentage of tenured professors among visible minorities\n",
    "tenured_minority = visible_minority[visible_minority['tenure'] == 'Yes']\n",
    "percentage_tenured_minority = (len(tenured_minority)/len(visible_minority))*100\n",
    "\n",
    "print(f\"Percentage of visible minorities who are tenured: {percentage_tenured_minority:.2f}%\")\n",
    "\n",
    "# Comment\n",
    "if percentage_tenured_minority < 50:\n",
    "    print(\"→ It seems tenure status might differ for visible minorities.\")\n",
    "else:\n",
    "    print(\"→ Tenure status doesn’t differ much based on minority status.\")\n"
   ]
  },
  {
   "cell_type": "markdown",
   "id": "e9e6f290-e51c-4d51-9065-b3bdd5e22cac",
   "metadata": {},
   "source": [
    "## Q2: Age by Tenure Status\n",
    "\n",
    "Does average age differ by tenure? Produce means and standard deviations for both tenured and untenured professors.\n"
   ]
  },
  {
   "cell_type": "code",
   "execution_count": 14,
   "id": "83965e3a-885e-4c4a-96a7-7100ed0e8bfb",
   "metadata": {},
   "outputs": [
    {
     "name": "stdout",
     "output_type": "stream",
     "text": [
      "  tenure       mean        std\n",
      "0     No  43.117647  11.714747\n",
      "1    Yes  44.515152  11.308518\n",
      "\n",
      "Observation: Tenured professors are generally older, which aligns with expectations.\n"
     ]
    }
   ],
   "source": [
    "# Group by tenure\n",
    "age_stats = df.groupby('tenure')['age'].agg(['mean','std']).reset_index()\n",
    "print(age_stats)\n",
    "\n",
    "print(\"\\nObservation: Tenured professors are generally older, which aligns with expectations.\")\n"
   ]
  },
  {
   "cell_type": "markdown",
   "id": "691e198f-6fb9-4ac3-b2be-02e45f1e9772",
   "metadata": {},
   "source": [
    "## Q3: Best Graph for Age Variable\n",
    "\n",
    "Which graph works better for the age variable – histogram or box plot? Plot both and explain.\n"
   ]
  },
  {
   "cell_type": "markdown",
   "id": "57810ea1",
   "metadata": {},
   "source": [
    "For analyzing a numerical variable such as Age, both histogram and boxplot can be used.\n",
    "However, the histogram works better in this case because it clearly shows the distribution of values, frequency of observations, and helps identify whether the data is normally distributed, skewed, or bimodal.\n",
    "\n",
    "It gives a more detailed understanding of how the ages are spread across the dataset compared to a boxplot, which mainly highlights outliers and spread"
   ]
  },
  {
   "cell_type": "code",
   "execution_count": 16,
   "id": "974e1e2d",
   "metadata": {},
   "outputs": [
    {
     "data": {
      "image/png": "[encoded data removed]",
      "text/plain": [
       "<Figure size 700x400 with 1 Axes>"
      ]
     },
     "metadata": {},
     "output_type": "display_data"
    }
   ],
   "source": [
    "plt.figure(figsize=(7,4))\n",
    "plt.hist(df['age'], bins=10, color='skyblue', edgecolor='black')\n",
    "plt.title(\"Distribution of Professors' Age\")\n",
    "plt.xlabel(\"Age\")\n",
    "plt.ylabel(\"Frequency\")\n",
    "plt.show()\n",
    "\n"
   ]
  },
  {
   "cell_type": "markdown",
   "id": "fa6c7b4a-c00a-4cfc-9758-96198fae12b9",
   "metadata": {},
   "source": [
    "\"Histogram works better than a boxplot for age because it shows how many professors fall into each age range, giving a clear distribution.\""
   ]
  },
  {
   "cell_type": "markdown",
   "id": "1dd5ceae-3a8b-4696-8712-9cdfa711bac9",
   "metadata": {},
   "source": [
    "## Q4:Define the difference between pyplot.bar and pyplot.barh. Also plot the graph for gender variable."
   ]
  },
  {
   "cell_type": "markdown",
   "id": "eff3152b-6f5e-4e30-b1dc-a41d70480096",
   "metadata": {},
   "source": [
    "- pyplot.bar(): vertical bars\n",
    " - pyplot.barh(): horizontal bars\n",
    " - Both are for categorical comparison; orientation is the main difference."
   ]
  },
  {
   "cell_type": "code",
   "execution_count": 26,
   "id": "b175dcd6-ffd8-4e97-b3ec-7e7f558e7412",
   "metadata": {},
   "outputs": [
    {
     "data": {
      "image/png": "[encoded data removed]",
      "text/plain": [
       "<Figure size 500x400 with 1 Axes>"
      ]
     },
     "metadata": {},
     "output_type": "display_data"
    }
   ],
   "source": [
    "gender_counts = df['gender'].value_counts()\n",
    "\n",
    "plt.figure(figsize=(5,4))\n",
    "plt.bar(gender_counts.index, gender_counts.values, color=['lightcoral','skyblue'])\n",
    "plt.title(\"Gender Distribution of Professors\")\n",
    "plt.xlabel(\"Gender\")\n",
    "plt.ylabel(\"Count\")\n",
    "plt.show()"
   ]
  },
  {
   "cell_type": "markdown",
   "id": "ce2b6556-394e-4aa3-866c-d5baab2d5787",
   "metadata": {},
   "source": [
    "## Q5: What is the Median evaluation score for tenured Professors?"
   ]
  },
  {
   "cell_type": "code",
   "execution_count": 29,
   "id": "4d750937-931b-4bec-96d9-8a52f0a4d7bc",
   "metadata": {},
   "outputs": [
    {
     "name": "stdout",
     "output_type": "stream",
     "text": [
      "Median evaluation score for tenured professors: 3.98\n"
     ]
    }
   ],
   "source": [
    "median_eval = df[df['tenure'] == 'Yes']['eval'].median()\n",
    "print(f\"Median evaluation score for tenured professors: {median_eval:.2f}\")\n"
   ]
  },
  {
   "cell_type": "code",
   "execution_count": null,
   "id": "4d0323fb-07a2-4df7-9b8f-13880a31c988",
   "metadata": {},
   "outputs": [],
   "source": []
  }
 ],
 "metadata": {
  "kernelspec": {
   "display_name": "Python 3 (ipykernel)",
   "language": "python",
   "name": "python3"
  },
  "language_info": {
   "codemirror_mode": {
    "name": "ipython",
    "version": 3
   },
   "file_extension": ".py",
   "mimetype": "text/x-python",
   "name": "python",
   "nbconvert_exporter": "python",
   "pygments_lexer": "ipython3",
   "version": "3.12.7"
  }
 },
 "nbformat": 4,
 "nbformat_minor": 5
}
