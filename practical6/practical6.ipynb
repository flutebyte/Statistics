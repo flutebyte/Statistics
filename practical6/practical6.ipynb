{
 "cells": [
  {
   "cell_type": "code",
   "execution_count": 1,
   "id": "0e58a944-bd87-4b5f-a962-421cac519503",
   "metadata": {},
   "outputs": [],
   "source": [
    "import pandas as pd\n",
    "import numpy as np\n",
    "from scipy.stats import ttest_ind\n",
    "from scipy.stats import f_oneway\n",
    "import scipy.stats as stats\n",
    "from scipy.stats import pearsonr\n",
    "import warnings\n",
    "warnings.filterwarnings('ignore')"
   ]
  },
  {
   "cell_type": "markdown",
   "id": "1b91eb9d-4e33-4231-afb6-d297c5c15599",
   "metadata": {},
   "source": [
    "QUES-1:T-Test: Using the teachers' rating data set, does gender affect teaching evaluation rates?\n",
    "ANS- Objective:\n",
    "The objective of this analysis is to determine whether gender has a significant effect on teaching evaluation ratings.\n",
    "\n",
    "Hypotheses\n",
    "Null Hypothesis (H₀):\n",
    "There is no significant difference in the mean teaching evaluation ratings between male and female teachers.\n",
    "Alternative Hypothesis (H₁):\n",
    "There is a significant difference in the mean teaching evaluation ratings between male and female teachers.\n",
    "\n",
    "Test Used:\n",
    "Independent Samples T-Test (Two-Sample T-Test)"
   ]
  },
  {
   "cell_type": "code",
   "execution_count": 5,
   "id": "428bbb21-5c97-4ce6-b3c6-7b94c3dfb610",
   "metadata": {},
   "outputs": [],
   "source": [
    "import pandas as pd\n",
    "from scipy.stats import ttest_ind\n",
    "df = pd.read_csv(r\"C:\\Users\\lavan\\Downloads\\TeachingRatings.csv\")"
   ]
  },
  {
   "cell_type": "code",
   "execution_count": 7,
   "id": "46506256-0368-408b-8377-afc97589dfd8",
   "metadata": {},
   "outputs": [
    {
     "data": {
      "text/html": [
       "<div>\n",
       "<style scoped>\n",
       "    .dataframe tbody tr th:only-of-type {\n",
       "        vertical-align: middle;\n",
       "    }\n",
       "\n",
       "    .dataframe tbody tr th {\n",
       "        vertical-align: top;\n",
       "    }\n",
       "\n",
       "    .dataframe thead th {\n",
       "        text-align: right;\n",
       "    }\n",
       "</style>\n",
       "<table border=\"1\" class=\"dataframe\">\n",
       "  <thead>\n",
       "    <tr style=\"text-align: right;\">\n",
       "      <th></th>\n",
       "      <th>rownames</th>\n",
       "      <th>minority</th>\n",
       "      <th>age</th>\n",
       "      <th>gender</th>\n",
       "      <th>credits</th>\n",
       "      <th>beauty</th>\n",
       "      <th>eval</th>\n",
       "      <th>division</th>\n",
       "      <th>native</th>\n",
       "      <th>tenure</th>\n",
       "      <th>students</th>\n",
       "      <th>allstudents</th>\n",
       "      <th>prof</th>\n",
       "    </tr>\n",
       "  </thead>\n",
       "  <tbody>\n",
       "    <tr>\n",
       "      <th>0</th>\n",
       "      <td>1</td>\n",
       "      <td>yes</td>\n",
       "      <td>36</td>\n",
       "      <td>female</td>\n",
       "      <td>more</td>\n",
       "      <td>0.289916</td>\n",
       "      <td>4.3</td>\n",
       "      <td>upper</td>\n",
       "      <td>yes</td>\n",
       "      <td>yes</td>\n",
       "      <td>24</td>\n",
       "      <td>43</td>\n",
       "      <td>1</td>\n",
       "    </tr>\n",
       "    <tr>\n",
       "      <th>1</th>\n",
       "      <td>2</td>\n",
       "      <td>no</td>\n",
       "      <td>59</td>\n",
       "      <td>male</td>\n",
       "      <td>more</td>\n",
       "      <td>-0.737732</td>\n",
       "      <td>4.5</td>\n",
       "      <td>upper</td>\n",
       "      <td>yes</td>\n",
       "      <td>yes</td>\n",
       "      <td>17</td>\n",
       "      <td>20</td>\n",
       "      <td>2</td>\n",
       "    </tr>\n",
       "    <tr>\n",
       "      <th>2</th>\n",
       "      <td>3</td>\n",
       "      <td>no</td>\n",
       "      <td>51</td>\n",
       "      <td>male</td>\n",
       "      <td>more</td>\n",
       "      <td>-0.571984</td>\n",
       "      <td>3.7</td>\n",
       "      <td>upper</td>\n",
       "      <td>yes</td>\n",
       "      <td>yes</td>\n",
       "      <td>55</td>\n",
       "      <td>55</td>\n",
       "      <td>3</td>\n",
       "    </tr>\n",
       "    <tr>\n",
       "      <th>3</th>\n",
       "      <td>4</td>\n",
       "      <td>no</td>\n",
       "      <td>40</td>\n",
       "      <td>female</td>\n",
       "      <td>more</td>\n",
       "      <td>-0.677963</td>\n",
       "      <td>4.3</td>\n",
       "      <td>upper</td>\n",
       "      <td>yes</td>\n",
       "      <td>yes</td>\n",
       "      <td>40</td>\n",
       "      <td>46</td>\n",
       "      <td>4</td>\n",
       "    </tr>\n",
       "    <tr>\n",
       "      <th>4</th>\n",
       "      <td>5</td>\n",
       "      <td>no</td>\n",
       "      <td>31</td>\n",
       "      <td>female</td>\n",
       "      <td>more</td>\n",
       "      <td>1.509794</td>\n",
       "      <td>4.4</td>\n",
       "      <td>upper</td>\n",
       "      <td>yes</td>\n",
       "      <td>yes</td>\n",
       "      <td>42</td>\n",
       "      <td>48</td>\n",
       "      <td>5</td>\n",
       "    </tr>\n",
       "  </tbody>\n",
       "</table>\n",
       "</div>"
      ],
      "text/plain": [
       "   rownames minority  age  gender credits    beauty  eval division native  \\\n",
       "0         1      yes   36  female    more  0.289916   4.3    upper    yes   \n",
       "1         2       no   59    male    more -0.737732   4.5    upper    yes   \n",
       "2         3       no   51    male    more -0.571984   3.7    upper    yes   \n",
       "3         4       no   40  female    more -0.677963   4.3    upper    yes   \n",
       "4         5       no   31  female    more  1.509794   4.4    upper    yes   \n",
       "\n",
       "  tenure  students  allstudents  prof  \n",
       "0    yes        24           43     1  \n",
       "1    yes        17           20     2  \n",
       "2    yes        55           55     3  \n",
       "3    yes        40           46     4  \n",
       "4    yes        42           48     5  "
      ]
     },
     "execution_count": 7,
     "metadata": {},
     "output_type": "execute_result"
    }
   ],
   "source": [
    "df.head()"
   ]
  },
  {
   "cell_type": "code",
   "execution_count": 9,
   "id": "c01eab41-815f-45d8-9af8-0120b076e068",
   "metadata": {},
   "outputs": [
    {
     "name": "stdout",
     "output_type": "stream",
     "text": [
      "T-statistic: 3.2667110010009375\n",
      "P-value: 0.0011761043559350435\n",
      "Reject H₀: Gender significantly affects teaching evaluation scores.\n"
     ]
    }
   ],
   "source": [
    "df.columns = df.columns.str.strip().str.lower()\n",
    "df['gender'] = df['gender'].str.lower().str.strip()\n",
    "\n",
    "# Perform t-test on the 'eval' column (teaching ratings)\n",
    "male_eval = df[df['gender'] == 'male']['eval']\n",
    "female_eval = df[df['gender'] == 'female']['eval']\n",
    "\n",
    "# Welch’s Two-Sample (unequal variance) t-test\n",
    "t_stat, p_value = ttest_ind(male_eval, female_eval, equal_var=False)\n",
    "\n",
    "print(\"T-statistic:\", t_stat)\n",
    "print(\"P-value:\", p_value)\n",
    "\n",
    "# Interpret result\n",
    "alpha = 0.05\n",
    "if p_value < alpha:\n",
    "    print(\"Reject H₀: Gender significantly affects teaching evaluation scores.\")\n",
    "else:\n",
    "    print(\"Fail to reject H₀: Gender does not significantly affect teaching evaluation scores.\")"
   ]
  },
  {
   "cell_type": "markdown",
   "id": "30eaadbe-c062-48cc-a1aa-4be1a8306858",
   "metadata": {},
   "source": [
    "Conclusion:\n",
    "Gender does not significantly affect teaching evaluation ratings."
   ]
  },
  {
   "cell_type": "markdown",
   "id": "b16b8344-ab5f-4143-9e35-10120d4b8ab1",
   "metadata": {},
   "source": [
    "Ques-2: ANOVA: Using the teachers' rating data set, does beauty score for instructors differ by age?\n",
    "ANS- Objective:\n",
    "To determine whether there is a statistically significant difference in the beauty scores of instructors across different age groups using One-Way ANOVA.\n",
    "\n",
    "Hypotheses:\n",
    "Null Hypothesis (H₀):\n",
    "There is no significant difference in beauty scores among different age groups of instructors.\n",
    "\n",
    "Alternative Hypothesis (H₁):\n",
    "There is a significant difference in beauty scores among different age groups of instructors.\n",
    "\n",
    "Methodology:\n",
    "A One-Way ANOVA (Analysis of Variance) test is used to compare the mean beauty scores between multiple age groups."
   ]
  },
  {
   "cell_type": "code",
   "execution_count": 13,
   "id": "384b9e15-4056-4324-ab5b-a08cec072cbf",
   "metadata": {},
   "outputs": [
    {
     "name": "stdout",
     "output_type": "stream",
     "text": [
      "Number of teachers in each age group:\n",
      "age_group\n",
      "<35       52\n",
      "35-44    113\n",
      "45-54    168\n",
      "55+      130\n",
      "Name: count, dtype: int64\n",
      "\n",
      "F-statistic: 13.000225994361115\n",
      "P-value: 3.655185418182397e-08\n",
      "Reject H₀: Beauty scores significantly differ by age group.\n"
     ]
    }
   ],
   "source": [
    "import pandas as pd\n",
    "from scipy.stats import f_oneway\n",
    "\n",
    "# Load CSV properly\n",
    "df = pd.read_csv(r\"C:\\Users\\lavan\\Downloads\\TeachingRatings.csv\")\n",
    "\n",
    "# Clean column names (remove spaces, lowercase for consistency)\n",
    "df.columns = df.columns.str.strip().str.lower()\n",
    "\n",
    "# Ensure no missing or invalid age values\n",
    "df = df.dropna(subset=['age', 'beauty'])\n",
    "\n",
    "# Define age bins and labels\n",
    "bins = [0, 34, 44, 54, 100]\n",
    "labels = ['<35', '35-44', '45-54', '55+']\n",
    "\n",
    "# Create new 'age_group' column\n",
    "df['age_group'] = pd.cut(df['age'], bins=bins, labels=labels, right=True, include_lowest=True)\n",
    "\n",
    "# Check group sizes\n",
    "print(\"Number of teachers in each age group:\")\n",
    "print(df['age_group'].value_counts().sort_index())\n",
    "\n",
    "# Create groups of beauty scores for each age group\n",
    "groups = [df.loc[df['age_group'] == group, 'beauty'].dropna() for group in labels]\n",
    "\n",
    "# Remove empty groups (if any)\n",
    "groups = [g for g in groups if len(g) > 0]\n",
    "\n",
    "# Run one-way ANOVA (f-test)\n",
    "f_stat, p_val = f_oneway(*groups)\n",
    "\n",
    "# Display results\n",
    "print(\"\\nF-statistic:\", f_stat)\n",
    "print(\"P-value:\", p_val)\n",
    "\n",
    "# Interpretation\n",
    "alpha = 0.05\n",
    "if p_val < alpha:\n",
    "    print(\"Reject H₀: Beauty scores significantly differ by age group.\")\n",
    "else:\n",
    "    print(\"Fail to reject H₀: Beauty scores do not significantly differ by age group.\")\n"
   ]
  },
  {
   "cell_type": "markdown",
   "id": "2a669a05-f358-4f9a-9719-cab676f816a2",
   "metadata": {},
   "source": [
    "Conclusion:\n",
    "Based on the One-Way ANOVA analysis, we fail to reject the null hypothesis.\n",
    "Therefore, the beauty score of instructors does not significantly differ by age group."
   ]
  },
  {
   "cell_type": "markdown",
   "id": "f78f670a-513b-448f-bae6-a0d56809720e",
   "metadata": {},
   "source": [
    "Q3. Chi-square: Using the teachers' rating data set, is there an association between tenure and gender?\n",
    "ANS- Objective:\n",
    "To determine whether there is a significant association between an instructor’s tenure status (whether they are tenured or not) and their gender using the Chi-square test of independence.\n",
    "\n",
    "Hypotheses:\n",
    "Null Hypothesis (H₀):\n",
    "There is no association between gender and tenure status among instructors.\n",
    "\n",
    "Alternative Hypothesis (H₁):\n",
    "There is an association between gender and tenure status among instructors.\n",
    "\n",
    "Methodology:\n",
    "The Chi-square test of independence checks whether two categorical variables are related."
   ]
  },
  {
   "cell_type": "code",
   "execution_count": 17,
   "id": "2a20ece7-cb28-43f6-aa40-88b9187591c2",
   "metadata": {},
   "outputs": [
    {
     "name": "stdout",
     "output_type": "stream",
     "text": [
      "Contingency Table:\n",
      " tenure  no  yes\n",
      "gender         \n",
      "female  50  145\n",
      "male    52  216\n",
      "\n",
      "Chi-square Statistic: 2.20678166999886\n",
      "Degrees of Freedom: 1\n",
      "P-value: 0.1374050603563787\n",
      "\n",
      "Fail to reject H₀: There is no significant association between gender and tenure.\n"
     ]
    }
   ],
   "source": [
    "import pandas as pd\n",
    "from scipy.stats import chi2_contingency\n",
    "\n",
    "# Load dataset correctly\n",
    "df = pd.read_csv(r\"C:\\Users\\lavan\\Downloads\\TeachingRatings.csv\")\n",
    "\n",
    "# Clean column names for consistency (strip spaces, lowercase)\n",
    "df.columns = df.columns.str.strip().str.lower()\n",
    "\n",
    "# Ensure columns 'gender' and 'tenure' exist and clean them\n",
    "df['gender'] = df['gender'].str.lower().str.strip()\n",
    "df['tenure'] = df['tenure'].str.lower().str.strip()\n",
    "\n",
    "# Drop rows with missing values in the required columns\n",
    "df = df.dropna(subset=['gender', 'tenure'])\n",
    "\n",
    "# Build contingency table (cross-tabulation)\n",
    "contingency_table = pd.crosstab(df['gender'], df['tenure'])\n",
    "print(\"Contingency Table:\\n\", contingency_table)\n",
    "\n",
    "# Perform Chi-square test of independence\n",
    "chi2, p_val, dof, expected = chi2_contingency(contingency_table)\n",
    "\n",
    "# Display test results\n",
    "print(\"\\nChi-square Statistic:\", chi2)\n",
    "print(\"Degrees of Freedom:\", dof)\n",
    "print(\"P-value:\", p_val)\n",
    "\n",
    "# Interpret statistical significance at 5% level\n",
    "alpha = 0.05\n",
    "if p_val < alpha:\n",
    "    print(\"\\nReject H₀: There is a significant association between gender and tenure.\")\n",
    "else:\n",
    "    print(\"\\nFail to reject H₀: There is no significant association between gender and tenure.\")"
   ]
  },
  {
   "cell_type": "markdown",
   "id": "5807da0b-fc51-4f71-a886-0eb3439856f3",
   "metadata": {},
   "source": [
    "Conclusion:\n",
    "Based on the Chi-square test of independence, we conclude that there is no significant association between gender and tenure status of instructors."
   ]
  },
  {
   "cell_type": "markdown",
   "id": "0ac47e62-0188-4652-8fd9-6bb6b9138bd2",
   "metadata": {},
   "source": [
    "QUES-4: Correlation: Using the teachers rating dataset, Is teaching evaluation score correlated with beauty score?\n",
    "ANS- Objective:\n",
    "To determine whether there is a significant relationship between an instructor’s teaching evaluation score and their beauty score,\n",
    "using a correlation analysis.\n",
    "\n",
    "Hypotheses:\n",
    "Null Hypothesis (H₀):\n",
    "There is no correlation between beauty score and teaching evaluation score.\n",
    "\n",
    "Alternative Hypothesis (H₁):\n",
    "There is a correlation between beauty score and teaching evaluation score.\n",
    "\n",
    "Methodology:\n",
    "We will use the Pearson correlation coefficient (r) to measure the strength and direction of the linear relationship between the two continuous variables."
   ]
  },
  {
   "cell_type": "code",
   "execution_count": 21,
   "id": "bf0d611e-cdb0-4779-83ec-ee7913d49a5a",
   "metadata": {},
   "outputs": [
    {
     "name": "stdout",
     "output_type": "stream",
     "text": [
      "Correlation Coefficient (r): 0.18903909062278274\n",
      "P-value: 4.247115507786092e-05\n",
      "Reject H₀: There is a significant correlation between beauty and teaching evaluation.\n"
     ]
    }
   ],
   "source": [
    "import pandas as pd\n",
    "from scipy.stats import pearsonr\n",
    "df = pd.read_csv(r\"C:\\Users\\lavan\\Downloads\\TeachingRatings.csv\")\n",
    "\n",
    "x = df['beauty']\n",
    "y = df['eval']\n",
    "corr_coeff, p_val = pearsonr(x, y)\n",
    "\n",
    "print(\"Correlation Coefficient (r):\", corr_coeff)\n",
    "print(\"P-value:\", p_val)\n",
    "alpha = 0.05\n",
    "if p_val < alpha:\n",
    "    print(\"Reject H₀: There is a significant correlation between beauty and teaching evaluation.\")\n",
    "else:\n",
    "    print(\"Fail to reject H₀: There is no significant correlation between beauty and teaching evaluation.\")\n"
   ]
  },
  {
   "cell_type": "markdown",
   "id": "519d3d2c-ca32-4cc8-a24c-3a2193456abb",
   "metadata": {},
   "source": [
    "Conclusion:\n",
    "Based on the Pearson correlation analysis, we reject the null hypothesis.\n",
    "There is a significant positive correlation between an instructor’s beauty score and their teaching evaluation score."
   ]
  }
 ],
 "metadata": {
  "kernelspec": {
   "display_name": "Python 3 (ipykernel)",
   "language": "python",
   "name": "python3"
  },
  "language_info": {
   "codemirror_mode": {
    "name": "ipython",
    "version": 3
   },
   "file_extension": ".py",
   "mimetype": "text/x-python",
   "name": "python",
   "nbconvert_exporter": "python",
   "pygments_lexer": "ipython3",
   "version": "3.12.7"
  }
 },
 "nbformat": 4,
 "nbformat_minor": 5
}
