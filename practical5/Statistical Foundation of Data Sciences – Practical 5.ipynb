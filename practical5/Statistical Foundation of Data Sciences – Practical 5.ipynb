{
 "cells": [
  {
   "cell_type": "markdown",
   "id": "7cfa4aca-8335-46fb-88a4-ec4e339d4dc3",
   "metadata": {},
   "source": [
    "# Statistical Foundation of Data Sciences – Practical 5\n",
    "\n",
    "**Student:** Lavanya Garg  \n",
    "**Course:** CSU1658 – Statistical Foundation of Data Sciences  \n",
    "**Date:** October 14, 2025\n",
    "\n",
    "---\n",
    "\n",
    "## Assignment Overview\n",
    "\n",
    "This notebook answers probability and hypothesis testing questions using the teachers' rating dataset, and applies a two-tailed z-test in a classic sports analytics context.\n"
   ]
  },
  {
   "cell_type": "code",
   "execution_count": 2,
   "id": "a58f3dc6-9844-43b9-bc78-8b65a6712f4c",
   "metadata": {},
   "outputs": [
    {
     "name": "stdout",
     "output_type": "stream",
     "text": [
      "Rows: 463 | Columns: 13\n"
     ]
    },
    {
     "data": {
      "text/html": [
       "<div>\n",
       "<style scoped>\n",
       "    .dataframe tbody tr th:only-of-type {\n",
       "        vertical-align: middle;\n",
       "    }\n",
       "\n",
       "    .dataframe tbody tr th {\n",
       "        vertical-align: top;\n",
       "    }\n",
       "\n",
       "    .dataframe thead th {\n",
       "        text-align: right;\n",
       "    }\n",
       "</style>\n",
       "<table border=\"1\" class=\"dataframe\">\n",
       "  <thead>\n",
       "    <tr style=\"text-align: right;\">\n",
       "      <th></th>\n",
       "      <th>rownames</th>\n",
       "      <th>minority</th>\n",
       "      <th>age</th>\n",
       "      <th>gender</th>\n",
       "      <th>credits</th>\n",
       "      <th>beauty</th>\n",
       "      <th>eval</th>\n",
       "      <th>division</th>\n",
       "      <th>native</th>\n",
       "      <th>tenure</th>\n",
       "      <th>students</th>\n",
       "      <th>allstudents</th>\n",
       "      <th>prof</th>\n",
       "    </tr>\n",
       "  </thead>\n",
       "  <tbody>\n",
       "    <tr>\n",
       "      <th>0</th>\n",
       "      <td>1</td>\n",
       "      <td>yes</td>\n",
       "      <td>36</td>\n",
       "      <td>female</td>\n",
       "      <td>more</td>\n",
       "      <td>0.289916</td>\n",
       "      <td>4.3</td>\n",
       "      <td>upper</td>\n",
       "      <td>yes</td>\n",
       "      <td>yes</td>\n",
       "      <td>24</td>\n",
       "      <td>43</td>\n",
       "      <td>1</td>\n",
       "    </tr>\n",
       "    <tr>\n",
       "      <th>1</th>\n",
       "      <td>2</td>\n",
       "      <td>no</td>\n",
       "      <td>59</td>\n",
       "      <td>male</td>\n",
       "      <td>more</td>\n",
       "      <td>-0.737732</td>\n",
       "      <td>4.5</td>\n",
       "      <td>upper</td>\n",
       "      <td>yes</td>\n",
       "      <td>yes</td>\n",
       "      <td>17</td>\n",
       "      <td>20</td>\n",
       "      <td>2</td>\n",
       "    </tr>\n",
       "    <tr>\n",
       "      <th>2</th>\n",
       "      <td>3</td>\n",
       "      <td>no</td>\n",
       "      <td>51</td>\n",
       "      <td>male</td>\n",
       "      <td>more</td>\n",
       "      <td>-0.571984</td>\n",
       "      <td>3.7</td>\n",
       "      <td>upper</td>\n",
       "      <td>yes</td>\n",
       "      <td>yes</td>\n",
       "      <td>55</td>\n",
       "      <td>55</td>\n",
       "      <td>3</td>\n",
       "    </tr>\n",
       "    <tr>\n",
       "      <th>3</th>\n",
       "      <td>4</td>\n",
       "      <td>no</td>\n",
       "      <td>40</td>\n",
       "      <td>female</td>\n",
       "      <td>more</td>\n",
       "      <td>-0.677963</td>\n",
       "      <td>4.3</td>\n",
       "      <td>upper</td>\n",
       "      <td>yes</td>\n",
       "      <td>yes</td>\n",
       "      <td>40</td>\n",
       "      <td>46</td>\n",
       "      <td>4</td>\n",
       "    </tr>\n",
       "    <tr>\n",
       "      <th>4</th>\n",
       "      <td>5</td>\n",
       "      <td>no</td>\n",
       "      <td>31</td>\n",
       "      <td>female</td>\n",
       "      <td>more</td>\n",
       "      <td>1.509794</td>\n",
       "      <td>4.4</td>\n",
       "      <td>upper</td>\n",
       "      <td>yes</td>\n",
       "      <td>yes</td>\n",
       "      <td>42</td>\n",
       "      <td>48</td>\n",
       "      <td>5</td>\n",
       "    </tr>\n",
       "  </tbody>\n",
       "</table>\n",
       "</div>"
      ],
      "text/plain": [
       "   rownames minority  age  gender credits    beauty  eval division native  \\\n",
       "0         1      yes   36  female    more  0.289916   4.3    upper    yes   \n",
       "1         2       no   59    male    more -0.737732   4.5    upper    yes   \n",
       "2         3       no   51    male    more -0.571984   3.7    upper    yes   \n",
       "3         4       no   40  female    more -0.677963   4.3    upper    yes   \n",
       "4         5       no   31  female    more  1.509794   4.4    upper    yes   \n",
       "\n",
       "  tenure  students  allstudents  prof  \n",
       "0    yes        24           43     1  \n",
       "1    yes        17           20     2  \n",
       "2    yes        55           55     3  \n",
       "3    yes        40           46     4  \n",
       "4    yes        42           48     5  "
      ]
     },
     "metadata": {},
     "output_type": "display_data"
    }
   ],
   "source": [
    "# Cell 1: Imports and Data Loading\n",
    "\n",
    "import numpy as np\n",
    "import pandas as pd\n",
    "import matplotlib.pyplot as plt\n",
    "from scipy.stats import norm\n",
    "\n",
    "# Load teacher ratings data\n",
    "df = pd.read_csv(r\"C:\\Users\\lavan\\Downloads\\TeachingRatings.csv\")\n",
    "\n",
    "print(f\"Rows: {df.shape[0]} | Columns: {df.shape[1]}\")\n",
    "display(df.head())\n"
   ]
  },
  {
   "cell_type": "markdown",
   "id": "8e70e249-c6c5-44db-a0ec-7046f7f41faf",
   "metadata": {},
   "source": [
    "## Q1. What is the probability of receiving an evaluation score > 4.5?\n"
   ]
  },
  {
   "cell_type": "code",
   "execution_count": 11,
   "id": "ab19d3c5-7b53-4728-a794-9c0f699530b3",
   "metadata": {},
   "outputs": [
    {
     "name": "stdout",
     "output_type": "stream",
     "text": [
      "Probability of evaluation score > 4.5: 0.1706 (79/463)\n"
     ]
    }
   ],
   "source": [
    "# Cell 2: Q1 - Probability evaluation score > 4.5\n",
    "\n",
    "if 'eval' in df.columns:\n",
    "    n = len(df)\n",
    "    count_above_45 = (df['eval'] > 4.5).sum()\n",
    "    prob_above_45 = count_above_45 / n\n",
    "    print(f\"Probability of evaluation score > 4.5: {prob_above_45:.4f} ({count_above_45}/{n})\")\n",
    "else:\n",
    "    print(\"'eval' column not found.\")"
   ]
  },
  {
   "cell_type": "markdown",
   "id": "116cc10c-c079-4362-b367-81ebf3951173",
   "metadata": {},
   "source": [
    "## Q2. What is the probability of an evaluation score > 3.5 and < 4.2?\n"
   ]
  },
  {
   "cell_type": "code",
   "execution_count": 13,
   "id": "90288eeb-7cdb-4714-8670-0e9327ce88e1",
   "metadata": {},
   "outputs": [
    {
     "name": "stdout",
     "output_type": "stream",
     "text": [
      "Probability of 3.5 < score < 4.2: 0.3542 (164/463)\n"
     ]
    }
   ],
   "source": [
    "# Cell 3: Q2 - Probability 3.5 < evaluation score < 4.2\n",
    "\n",
    "if 'eval' in df.columns:\n",
    "    count_in_range = ((df['eval'] > 3.5) & (df['eval'] < 4.2)).sum()\n",
    "    prob_in_range = count_in_range / len(df)\n",
    "    print(f\"Probability of 3.5 < score < 4.2: {prob_in_range:.4f} ({count_in_range}/{len(df)})\")\n",
    "else:\n",
    "    print(\"'eval' column not found.\")\n"
   ]
  },
  {
   "cell_type": "markdown",
   "id": "a5abe729-4cef-4456-bc29-9ec67bc08081",
   "metadata": {},
   "source": [
    "## Q3. Two-Tailed Z-Test for Means (Sports Example)\n",
    "\n",
    "#### Context:\n",
    "- Population (pros): mean = 12, std = 5.5\n",
    "- Sample (regional, n=36): mean = 10.7\n",
    "- Test: Is regional mean different from pro mean?\n",
    "- **Null Hypothesis:** The mean point of the regional players is equal to the historic mean (μ = 12)\n",
    "- **Alternative Hypothesis:** The mean point of the regional players is different from the historic mean (μ ≠ 12)\n",
    "- **Significance level (α):** 0.05\n"
   ]
  },
  {
   "cell_type": "code",
   "execution_count": 16,
   "id": "1c11c112-f7b2-48bd-a2cf-d9750a6f5041",
   "metadata": {},
   "outputs": [
    {
     "name": "stdout",
     "output_type": "stream",
     "text": [
      "Z-score: -1.4182\n",
      "Two-tailed p-value: 0.1561\n",
      "Result: Fail to reject the null hypothesis at α=0.05.\n",
      "Interpretation: Regional players' mean is NOT significantly different from historic mean.\n"
     ]
    }
   ],
   "source": [
    "# Cell 4: Q3 - Two-Tailed Z-Test for given sports scenario\n",
    "\n",
    "# Given values\n",
    "mu_pro = 12         # Historic mean (population)\n",
    "sigma_pro = 5.5     # Historic std dev (population)\n",
    "n_regional = 36     # Sample size\n",
    "mean_regional = 10.7 # Regional sample mean\n",
    "\n",
    "# Standard error\n",
    "se = sigma_pro / np.sqrt(n_regional)\n",
    "\n",
    "# Z-score calculation\n",
    "z = (mean_regional - mu_pro) / se\n",
    "\n",
    "# Two-tailed p-value\n",
    "p_value = 2 * (1 - norm.cdf(abs(z)))\n",
    "\n",
    "print(f\"Z-score: {z:.4f}\")\n",
    "print(f\"Two-tailed p-value: {p_value:.4f}\")\n",
    "\n",
    "alpha = 0.05\n",
    "\n",
    "if p_value < alpha:\n",
    "    print(f\"Result: Reject the null hypothesis at α={alpha}.\")\n",
    "    print(\"Interpretation: Regional players' mean IS SIGNIFICANTLY different from historic mean.\")\n",
    "else:\n",
    "    print(f\"Result: Fail to reject the null hypothesis at α={alpha}.\")\n",
    "    print(\"Interpretation: Regional players' mean is NOT significantly different from historic mean.\")\n"
   ]
  },
  {
   "cell_type": "markdown",
   "id": "faf26a77-f989-4e4d-9dd8-97946b6de7f3",
   "metadata": {},
   "source": [
    "## Additional: Visualizing the Z-Test\n",
    "\n",
    "Optional: Visualize the two-tailed test and significance regions.\n"
   ]
  },
  {
   "cell_type": "code",
   "execution_count": 19,
   "id": "07858e78-a34d-41ba-8baa-dd13a8600640",
   "metadata": {},
   "outputs": [
    {
     "data": {
      "image/png": "[encoded data removed]",
      "text/plain": [
       "<Figure size 1000x500 with 1 Axes>"
      ]
     },
     "metadata": {},
     "output_type": "display_data"
    }
   ],
   "source": [
    "# Cell 5: Visualizing two-tailed test\n",
    "\n",
    "import matplotlib.pyplot as plt\n",
    "\n",
    "x = np.linspace(mu_pro - 4*sigma_pro, mu_pro + 4*sigma_pro, 500)\n",
    "y = norm.pdf(x, mu_pro, sigma_pro/np.sqrt(n_regional))\n",
    "\n",
    "plt.figure(figsize=(10,5))\n",
    "plt.plot(x, y, label='Sampling Distribution (n=36)')\n",
    "plt.axvline(mean_regional, color='red', linestyle='--', label='Regional Mean')\n",
    "plt.axvline(mu_pro, color='blue', linestyle='--', label='Historic Mean (μ=12)')\n",
    "plt.fill_between(x, y, where=(x < mu_pro - abs(mean_regional-mu_pro)) | (x > mu_pro + abs(mean_regional-mu_pro)),\n",
    "                 color='gray', alpha=0.2, label='Rejection regions')\n",
    "plt.title('Two-Tailed Z-Test Visualization')\n",
    "plt.xlabel('Mean Points Scored')\n",
    "plt.ylabel('Probability Density')\n",
    "plt.legend()\n",
    "plt.grid(True, alpha=0.3)\n",
    "plt.show()\n"
   ]
  },
  {
   "cell_type": "code",
   "execution_count": null,
   "id": "b8d8060d-1a80-4728-94d9-fabf96983472",
   "metadata": {},
   "outputs": [],
   "source": []
  }
 ],
 "metadata": {
  "kernelspec": {
   "display_name": "Python 3 (ipykernel)",
   "language": "python",
   "name": "python3"
  },
  "language_info": {
   "codemirror_mode": {
    "name": "ipython",
    "version": 3
   },
   "file_extension": ".py",
   "mimetype": "text/x-python",
   "name": "python",
   "nbconvert_exporter": "python",
   "pygments_lexer": "ipython3",
   "version": "3.12.7"
  }
 },
 "nbformat": 4,
 "nbformat_minor": 5
}
